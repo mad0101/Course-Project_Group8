{
  "nbformat": 4,
  "nbformat_minor": 0,
  "metadata": {
    "colab": {
      "provenance": []
    },
    "kernelspec": {
      "name": "python3",
      "display_name": "Python 3"
    },
    "language_info": {
      "name": "python"
    },
    "gpuClass": "standard",
    "accelerator": "GPU"
  },
  "cells": [
    {
      "cell_type": "code",
      "source": [
        "import numpy as np\n",
        "import pandas as pd"
      ],
      "metadata": {
        "id": "WuVIwwR7HwLK"
      },
      "execution_count": 2,
      "outputs": []
    },
    {
      "cell_type": "code",
      "source": [
        "df_final = pd.read_csv('/content/cleaned_data_txt.csv')\n",
        "df_final.columns"
      ],
      "metadata": {
        "colab": {
          "base_uri": "https://localhost:8080/"
        },
        "id": "WcATYmewHQeU",
        "outputId": "741411ae-d883-4ad0-8932-b517fa33277e"
      },
      "execution_count": 3,
      "outputs": [
        {
          "output_type": "execute_result",
          "data": {
            "text/plain": [
              "Index(['text', 'target'], dtype='object')"
            ]
          },
          "metadata": {},
          "execution_count": 3
        }
      ]
    },
    {
      "cell_type": "code",
      "source": [
        "print(len(df_final[df_final['target']==0]))\n",
        "print(len(df_final[df_final['target']==1]))"
      ],
      "metadata": {
        "colab": {
          "base_uri": "https://localhost:8080/"
        },
        "id": "uuz0bc2P16pH",
        "outputId": "dd7a6190-ef68-40ba-ae86-0d76d5deaf12"
      },
      "execution_count": 4,
      "outputs": [
        {
          "output_type": "stream",
          "name": "stdout",
          "text": [
            "8807\n",
            "3277\n"
          ]
        }
      ]
    },
    {
      "cell_type": "code",
      "source": [
        "texts = df_final['text'].astype(str).tolist()\n",
        "labels = df_final['target'].tolist()\n",
        "texts = np.array(texts)\n",
        "labels = np.array(labels)"
      ],
      "metadata": {
        "id": "4cs3NBrPIoKE"
      },
      "execution_count": 5,
      "outputs": []
    },
    {
      "cell_type": "code",
      "source": [
        "from sklearn.model_selection import train_test_split\n",
        "# assume X is your data features and y is your target variable\n",
        "\n",
        "X_train, X_test, y_train, y_test = train_test_split(texts, labels, test_size=0.2, random_state=42)\n"
      ],
      "metadata": {
        "id": "5x1QVaUzKBdi"
      },
      "execution_count": 6,
      "outputs": []
    },
    {
      "cell_type": "code",
      "execution_count": 13,
      "metadata": {
        "colab": {
          "base_uri": "https://localhost:8080/"
        },
        "id": "rNBtPnloGiPX",
        "outputId": "67164541-b53f-4bdf-9e61-d490ed665677"
      },
      "outputs": [
        {
          "output_type": "stream",
          "name": "stdout",
          "text": [
            "Epoch 1/5\n",
            "303/303 [==============================] - 37s 106ms/step - loss: 0.2541 - accuracy: 0.9039\n",
            "Epoch 2/5\n",
            "303/303 [==============================] - 20s 64ms/step - loss: 0.0679 - accuracy: 0.9822\n",
            "Epoch 3/5\n",
            "303/303 [==============================] - 14s 46ms/step - loss: 0.0469 - accuracy: 0.9881\n",
            "Epoch 4/5\n",
            "303/303 [==============================] - 13s 43ms/step - loss: 0.0393 - accuracy: 0.9901\n",
            "Epoch 5/5\n",
            "303/303 [==============================] - 13s 42ms/step - loss: 0.0328 - accuracy: 0.9914\n"
          ]
        },
        {
          "output_type": "execute_result",
          "data": {
            "text/plain": [
              "<keras.callbacks.History at 0x7fa37eaedeb0>"
            ]
          },
          "metadata": {},
          "execution_count": 13
        }
      ],
      "source": [
        "import tensorflow as tf\n",
        "from tensorflow.keras.preprocessing.text import Tokenizer\n",
        "from tensorflow.keras.preprocessing.sequence import pad_sequences\n",
        "from tensorflow.keras.models import Sequential\n",
        "from tensorflow.keras.layers import Embedding, Bidirectional, LSTM, Dense\n",
        "\n",
        "# define the text data and their corresponding labels\n",
        "# texts = ['This movie is great', 'The movie was terrible', 'The acting was amazing', 'I did not like the film']\n",
        "# labels = [1, 0, 1, 0]  # 1 for positive sentiment, 0 for negative sentiment\n",
        "\n",
        "# create a tokenizer and fit it to the text data\n",
        "tokenizer = Tokenizer(num_words=1000, oov_token='<OOV>')\n",
        "tokenizer.fit_on_texts(texts)\n",
        "\n",
        "# convert the text data to sequences and pad them to have the same length\n",
        "sequences = tokenizer.texts_to_sequences(X_train)\n",
        "maxlen = max([len(seq) for seq in sequences])\n",
        "padded_sequences = pad_sequences(sequences, maxlen=maxlen, padding='post')\n",
        "\n",
        "# define the model architecture\n",
        "model = Sequential([\n",
        "    Embedding(input_dim=len(tokenizer.word_index)+1, output_dim=32, input_length=maxlen),\n",
        "    Bidirectional(LSTM(32)),\n",
        "    Dense(1, activation='sigmoid')\n",
        "])\n",
        "\n",
        "# compile the model\n",
        "model.compile(optimizer='adam', loss='binary_crossentropy', metrics=['accuracy'])\n",
        "\n",
        "# train the model\n",
        "model.fit(padded_sequences, y_train, epochs=5)"
      ]
    },
    {
      "cell_type": "code",
      "source": [
        "\n",
        "model.summary()"
      ],
      "metadata": {
        "colab": {
          "base_uri": "https://localhost:8080/"
        },
        "id": "F_EAPwD0fjf3",
        "outputId": "9b359e46-c684-40fe-aa17-cb3f3a3a84d0"
      },
      "execution_count": 14,
      "outputs": [
        {
          "output_type": "stream",
          "name": "stdout",
          "text": [
            "Model: \"sequential_4\"\n",
            "_________________________________________________________________\n",
            " Layer (type)                Output Shape              Param #   \n",
            "=================================================================\n",
            " embedding_4 (Embedding)     (None, 764, 32)           724896    \n",
            "                                                                 \n",
            " bidirectional_4 (Bidirectio  (None, 64)               16640     \n",
            " nal)                                                            \n",
            "                                                                 \n",
            " dense_4 (Dense)             (None, 1)                 65        \n",
            "                                                                 \n",
            "=================================================================\n",
            "Total params: 741,601\n",
            "Trainable params: 741,601\n",
            "Non-trainable params: 0\n",
            "_________________________________________________________________\n"
          ]
        }
      ]
    },
    {
      "cell_type": "code",
      "source": [
        "# evaluate the model on new data\n",
        "new_texts = ['thing puts smile face brother hes best', 'anxiety literally ga kill someone anyone help pls mens sleep drinking water help', 'I am so depressed kill ', 'life is beautiful', 'lets play in the sun','i am very much scared of medha']\n",
        "new_sequences = tokenizer.texts_to_sequences(new_texts)\n",
        "new_padded_sequences = pad_sequences(new_sequences, maxlen=maxlen, padding='post')\n",
        "predictions = model.predict(new_padded_sequences)\n",
        "for i, prediction in enumerate(predictions):\n",
        "    sentiment = 'depressed' if prediction >= 0.5 else 'not depressed'\n",
        "    print(f\"{new_texts[i]} -> {sentiment} ({prediction[0]})\")\n",
        "#bracket represent probability of class 1(depressed). if prob > 0.5, its classified as depressed, else not."
      ],
      "metadata": {
        "colab": {
          "base_uri": "https://localhost:8080/"
        },
        "id": "EXqngtLNJ3Fo",
        "outputId": "ce5fb67b-5195-4a22-8478-8c9604422943"
      },
      "execution_count": null,
      "outputs": [
        {
          "output_type": "stream",
          "name": "stdout",
          "text": [
            "1/1 [==============================] - 1s 665ms/step\n",
            "thing puts smile face brother hes best -> not depressed (0.002152541186660528)\n",
            "anxiety literally ga kill someone anyone help pls mens sleep drinking water help -> depressed (0.9907008409500122)\n",
            "I am so depressed kill  -> depressed (0.9696369767189026)\n",
            "life is beautiful -> not depressed (0.01041035819798708)\n",
            "lets play in the sun -> not depressed (0.033363226801157)\n",
            "i am very much scared of medha -> depressed (0.7482262849807739)\n"
          ]
        }
      ]
    },
    {
      "cell_type": "code",
      "source": [
        "# evaluate the model on test data\n",
        "y_pred = []\n",
        "new_sequences = tokenizer.texts_to_sequences(X_test)\n",
        "new_padded_sequences = pad_sequences(new_sequences, maxlen=maxlen, padding='post')\n",
        "predictions = model.predict(new_padded_sequences)\n",
        "for i, prediction in enumerate(predictions):\n",
        "    output = 1 if prediction >= 0.5 else 0\n",
        "    y_pred.append(output)\n",
        "\n",
        "\n",
        "from sklearn.metrics import accuracy_score\n",
        "\n",
        "# assume y_true and y_pred are your true and predicted labels, respectively\n",
        "\n",
        "accuracy = accuracy_score(y_test, y_pred)\n",
        "print(\"Accuracy:\", accuracy)"
      ],
      "metadata": {
        "colab": {
          "base_uri": "https://localhost:8080/"
        },
        "id": "duuHk5aFte5s",
        "outputId": "4f3cb791-9b4e-43c8-d5f5-1c428cd16ebb"
      },
      "execution_count": null,
      "outputs": [
        {
          "output_type": "stream",
          "name": "stdout",
          "text": [
            "12/12 [==============================] - 0s 27ms/step\n",
            "Accuracy: 0.9291784702549575\n"
          ]
        }
      ]
    },
    {
      "cell_type": "code",
      "source": [
        "print(len(y_test))\n",
        "print(np.count_nonzero(y_test == 1))\n",
        "print(np.count_nonzero(y_test == 0))"
      ],
      "metadata": {
        "colab": {
          "base_uri": "https://localhost:8080/"
        },
        "id": "n99Mij_3te21",
        "outputId": "486b099a-fa64-4905-ca49-3163e199a452"
      },
      "execution_count": null,
      "outputs": [
        {
          "output_type": "stream",
          "name": "stdout",
          "text": [
            "353\n",
            "194\n",
            "159\n"
          ]
        }
      ]
    }
  ]
}