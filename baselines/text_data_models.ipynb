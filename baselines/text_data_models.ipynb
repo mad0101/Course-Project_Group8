{
  "cells": [
    {
      "cell_type": "code",
      "execution_count": 1,
      "metadata": {
        "id": "WuVIwwR7HwLK"
      },
      "outputs": [],
      "source": [
        "import numpy as np\n",
        "import pandas as pd"
      ]
    },
    {
      "cell_type": "code",
      "execution_count": null,
      "metadata": {
        "id": "lFeooWX6H2aS"
      },
      "outputs": [],
      "source": []
    },
    {
      "cell_type": "code",
      "execution_count": 3,
      "metadata": {
        "colab": {
          "base_uri": "https://localhost:8080/"
        },
        "id": "WcATYmewHQeU",
        "outputId": "01c2e706-866f-4cb3-a3eb-11103f31f7ed"
      },
      "outputs": [
        {
          "data": {
            "text/plain": [
              "Index(['text', 'target'], dtype='object')"
            ]
          },
          "execution_count": 3,
          "metadata": {},
          "output_type": "execute_result"
        }
      ],
      "source": [
        "df_final = pd.read_csv('./cleaned_data_txt.csv')\n",
        "df_final.columns"
      ]
    },
    {
      "cell_type": "code",
      "execution_count": 4,
      "metadata": {
        "id": "4cs3NBrPIoKE"
      },
      "outputs": [],
      "source": [
        "texts = df_final['text'].astype(str).tolist()\n",
        "labels = df_final['target'].tolist()\n",
        "texts = np.array(texts)\n",
        "labels = np.array(labels)"
      ]
    },
    {
      "cell_type": "code",
      "execution_count": 5,
      "metadata": {
        "id": "5x1QVaUzKBdi"
      },
      "outputs": [],
      "source": [
        "from sklearn.model_selection import train_test_split\n",
        "# assume X is your data features and y is your target variable\n",
        "\n",
        "X_train, X_test, y_train, y_test = train_test_split(texts, labels, test_size=0.2, random_state=42)\n"
      ]
    },
    {
      "cell_type": "code",
      "execution_count": 6,
      "metadata": {
        "colab": {
          "base_uri": "https://localhost:8080/"
        },
        "id": "rNBtPnloGiPX",
        "outputId": "cd78374a-04a5-4d86-d9da-fef5b448e51c"
      },
      "outputs": [
        {
          "name": "stderr",
          "output_type": "stream",
          "text": [
            "2023-03-09 20:47:10.770769: I tensorflow/core/platform/cpu_feature_guard.cc:193] This TensorFlow binary is optimized with oneAPI Deep Neural Network Library (oneDNN) to use the following CPU instructions in performance-critical operations:  AVX2 AVX512F AVX512_VNNI FMA\n",
            "To enable them in other operations, rebuild TensorFlow with the appropriate compiler flags.\n",
            "2023-03-09 20:47:11.090722: I tensorflow/core/util/util.cc:169] oneDNN custom operations are on. You may see slightly different numerical results due to floating-point round-off errors from different computation orders. To turn them off, set the environment variable `TF_ENABLE_ONEDNN_OPTS=0`.\n",
            "2023-03-09 20:47:11.158148: W tensorflow/stream_executor/platform/default/dso_loader.cc:64] Could not load dynamic library 'libcudart.so.11.0'; dlerror: libcudart.so.11.0: cannot open shared object file: No such file or directory\n",
            "2023-03-09 20:47:11.158171: I tensorflow/stream_executor/cuda/cudart_stub.cc:29] Ignore above cudart dlerror if you do not have a GPU set up on your machine.\n",
            "2023-03-09 20:47:11.205945: E tensorflow/stream_executor/cuda/cuda_blas.cc:2981] Unable to register cuBLAS factory: Attempting to register factory for plugin cuBLAS when one has already been registered\n",
            "2023-03-09 20:47:12.284596: W tensorflow/stream_executor/platform/default/dso_loader.cc:64] Could not load dynamic library 'libnvinfer.so.7'; dlerror: libnvinfer.so.7: cannot open shared object file: No such file or directory\n",
            "2023-03-09 20:47:12.284701: W tensorflow/stream_executor/platform/default/dso_loader.cc:64] Could not load dynamic library 'libnvinfer_plugin.so.7'; dlerror: libnvinfer_plugin.so.7: cannot open shared object file: No such file or directory\n",
            "2023-03-09 20:47:12.284707: W tensorflow/compiler/tf2tensorrt/utils/py_utils.cc:38] TF-TRT Warning: Cannot dlopen some TensorRT libraries. If you would like to use Nvidia GPU with TensorRT, please make sure the missing libraries mentioned above are installed properly.\n",
            "2023-03-09 20:47:13.319337: W tensorflow/stream_executor/platform/default/dso_loader.cc:64] Could not load dynamic library 'libcuda.so.1'; dlerror: libcuda.so.1: cannot open shared object file: No such file or directory\n",
            "2023-03-09 20:47:13.319711: W tensorflow/stream_executor/cuda/cuda_driver.cc:263] failed call to cuInit: UNKNOWN ERROR (303)\n",
            "2023-03-09 20:47:13.319726: I tensorflow/stream_executor/cuda/cuda_diagnostics.cc:156] kernel driver does not appear to be running on this host (ayush-Mi-NoteBook-Ultra): /proc/driver/nvidia/version does not exist\n",
            "2023-03-09 20:47:13.320583: I tensorflow/core/platform/cpu_feature_guard.cc:193] This TensorFlow binary is optimized with oneAPI Deep Neural Network Library (oneDNN) to use the following CPU instructions in performance-critical operations:  AVX2 AVX512F AVX512_VNNI FMA\n",
            "To enable them in other operations, rebuild TensorFlow with the appropriate compiler flags.\n"
          ]
        },
        {
          "name": "stdout",
          "output_type": "stream",
          "text": [
            "Epoch 1/10\n",
            "45/45 [==============================] - 11s 209ms/step - loss: 0.6125 - accuracy: 0.6697\n",
            "Epoch 2/10\n",
            "45/45 [==============================] - 12s 263ms/step - loss: 0.4197 - accuracy: 0.8249\n",
            "Epoch 3/10\n",
            "22/45 [=============>................] - ETA: 5s - loss: 0.2757 - accuracy: 0.9020"
          ]
        }
      ],
      "source": [
        "import tensorflow as tf\n",
        "from tensorflow.keras.preprocessing.text import Tokenizer\n",
        "from tensorflow.keras.preprocessing.sequence import pad_sequences\n",
        "from tensorflow.keras.models import Sequential\n",
        "from tensorflow.keras.layers import Embedding, Bidirectional, LSTM, Dense\n",
        "\n",
        "# define the text data and their corresponding labels\n",
        "# texts = ['This movie is great', 'The movie was terrible', 'The acting was amazing', 'I did not like the film']\n",
        "# labels = [1, 0, 1, 0]  # 1 for positive sentiment, 0 for negative sentiment\n",
        "\n",
        "# create a tokenizer and fit it to the text data\n",
        "tokenizer = Tokenizer(num_words=1000, oov_token='<OOV>')\n",
        "tokenizer.fit_on_texts(texts)\n",
        "\n",
        "# convert the text data to sequences and pad them to have the same length\n",
        "sequences = tokenizer.texts_to_sequences(X_train)\n",
        "maxlen = max([len(seq) for seq in sequences])\n",
        "padded_sequences = pad_sequences(sequences, maxlen=maxlen, padding='post')\n",
        "\n",
        "# define the model architecture\n",
        "model = Sequential([\n",
        "    Embedding(input_dim=len(tokenizer.word_index)+1, output_dim=32, input_length=maxlen),\n",
        "    Bidirectional(LSTM(32)),\n",
        "    Dense(1, activation='sigmoid')\n",
        "])\n",
        "\n",
        "# compile the model\n",
        "model.compile(optimizer='adam', loss='binary_crossentropy', metrics=['accuracy'])\n",
        "\n",
        "# train the model\n",
        "model.fit(padded_sequences, y_train, epochs=10)"
      ]
    },
    {
      "cell_type": "code",
      "execution_count": 7,
      "metadata": {
        "colab": {
          "base_uri": "https://localhost:8080/"
        },
        "id": "EXqngtLNJ3Fo",
        "outputId": "ce5fb67b-5195-4a22-8478-8c9604422943"
      },
      "outputs": [
        {
          "name": "stdout",
          "output_type": "stream",
          "text": [
            "1/1 [==============================] - 1s 665ms/step\n",
            "thing puts smile face brother hes best -> not depressed (0.002152541186660528)\n",
            "anxiety literally ga kill someone anyone help pls mens sleep drinking water help -> depressed (0.9907008409500122)\n",
            "I am so depressed kill  -> depressed (0.9696369767189026)\n",
            "life is beautiful -> not depressed (0.01041035819798708)\n",
            "lets play in the sun -> not depressed (0.033363226801157)\n",
            "i am very much scared of medha -> depressed (0.7482262849807739)\n"
          ]
        }
      ],
      "source": [
        "# evaluate the model on new data\n",
        "new_texts = ['thing puts smile face brother hes best', 'anxiety literally ga kill someone anyone help pls mens sleep drinking water help', 'I am so depressed kill ', 'life is beautiful', 'lets play in the sun','i am very much scared of medha']\n",
        "new_sequences = tokenizer.texts_to_sequences(new_texts)\n",
        "new_padded_sequences = pad_sequences(new_sequences, maxlen=maxlen, padding='post')\n",
        "predictions = model.predict(new_padded_sequences)\n",
        "for i, prediction in enumerate(predictions):\n",
        "    sentiment = 'depressed' if prediction >= 0.5 else 'not depressed'\n",
        "    print(f\"{new_texts[i]} -> {sentiment} ({prediction[0]})\")\n",
        "#bracket represent probability of class 1(depressed). if prob > 0.5, its classified as depressed, else not."
      ]
    },
    {
      "cell_type": "code",
      "execution_count": 9,
      "metadata": {
        "colab": {
          "base_uri": "https://localhost:8080/"
        },
        "id": "duuHk5aFte5s",
        "outputId": "4f3cb791-9b4e-43c8-d5f5-1c428cd16ebb"
      },
      "outputs": [
        {
          "name": "stdout",
          "output_type": "stream",
          "text": [
            "12/12 [==============================] - 0s 27ms/step\n",
            "Accuracy: 0.9291784702549575\n"
          ]
        }
      ],
      "source": [
        "# evaluate the model on test data\n",
        "y_pred = []\n",
        "new_sequences = tokenizer.texts_to_sequences(X_test)\n",
        "new_padded_sequences = pad_sequences(new_sequences, maxlen=maxlen, padding='post')\n",
        "predictions = model.predict(new_padded_sequences)\n",
        "for i, prediction in enumerate(predictions):\n",
        "    output = 1 if prediction >= 0.5 else 0\n",
        "    y_pred.append(output)\n",
        "\n",
        "\n",
        "from sklearn.metrics import accuracy_score\n",
        "\n",
        "# assume y_true and y_pred are your true and predicted labels, respectively\n",
        "\n",
        "accuracy = accuracy_score(y_test, y_pred)\n",
        "print(\"Accuracy:\", accuracy)"
      ]
    },
    {
      "cell_type": "code",
      "execution_count": 14,
      "metadata": {
        "colab": {
          "base_uri": "https://localhost:8080/"
        },
        "id": "n99Mij_3te21",
        "outputId": "486b099a-fa64-4905-ca49-3163e199a452"
      },
      "outputs": [
        {
          "name": "stdout",
          "output_type": "stream",
          "text": [
            "353\n",
            "194\n",
            "159\n"
          ]
        }
      ],
      "source": [
        "print(len(y_test))\n",
        "print(np.count_nonzero(y_test == 1))\n",
        "print(np.count_nonzero(y_test == 0))"
      ]
    },
    {
      "cell_type": "code",
      "execution_count": null,
      "metadata": {
        "id": "y1NRxW7W106u"
      },
      "outputs": [],
      "source": []
    }
  ],
  "metadata": {
    "accelerator": "GPU",
    "colab": {
      "provenance": []
    },
    "gpuClass": "standard",
    "kernelspec": {
      "display_name": "Python 3",
      "name": "python3"
    },
    "language_info": {
      "codemirror_mode": {
        "name": "ipython",
        "version": 3
      },
      "file_extension": ".py",
      "mimetype": "text/x-python",
      "name": "python",
      "nbconvert_exporter": "python",
      "pygments_lexer": "ipython3",
      "version": "3.8.10"
    }
  },
  "nbformat": 4,
  "nbformat_minor": 0
}
